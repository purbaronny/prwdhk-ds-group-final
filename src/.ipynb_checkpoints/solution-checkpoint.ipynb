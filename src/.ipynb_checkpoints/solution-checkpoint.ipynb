{
 "cells": [
  {
   "cell_type": "markdown",
   "id": "c6ca13d6-644f-4ce7-8d2b-b5d3b7185938",
   "metadata": {},
   "source": [
    "# **Bank marketing campaigns**"
   ]
  },
  {
   "cell_type": "markdown",
   "id": "daf6f09e-b214-48d9-98bb-0282262286de",
   "metadata": {},
   "source": [
    "## Disusun Oleh: \n",
    "###             1. CHRISTIAN TJOPUTERA\n",
    "###             2. Ahmad Zaid Makarim\n",
    "###             3. Ronny Sahat Martua Purba"
   ]
  },
  {
   "cell_type": "code",
   "execution_count": null,
   "id": "96ef8a28-aa53-47dc-95de-0a298a26cb23",
   "metadata": {},
   "outputs": [],
   "source": []
  },
  {
   "cell_type": "code",
   "execution_count": null,
   "id": "739463db-a092-459b-a993-9102115ab8ee",
   "metadata": {},
   "outputs": [],
   "source": []
  },
  {
   "cell_type": "markdown",
   "id": "b8f754ad-40a5-4ecc-9f3c-e679fd25b267",
   "metadata": {},
   "source": [
    "## **1. Business Problem Statement**"
   ]
  },
  {
   "cell_type": "markdown",
   "id": "d336c1a3-0e1c-47a9-9696-dfb08bf19dd8",
   "metadata": {},
   "source": [
    "### **1.1. Latar Belakang**\n",
    "\n",
    "Dalam industri perbankan, penawaran produk melalui kampanye pemasaran seperti telemarketing merupakan salah satu strategi utama untuk meningkatkan pendapatan dan mempertahankan hubungan dengan nasabah. Namun, pendekatan yang kurang terarah dapat menyebabkan pemborosan sumber daya, rendahnya tingkat keberhasilan kampanye, dan ketidakpuasan pelanggan akibat komunikasi yang tidak relevan.\n",
    "\n",
    "Salah satu produk yang ditawarkan melalui kampanye ini adalah **deposito berjangka (*term deposit*)**. Meskipun produk ini memiliki nilai yang tinggi bagi bank, hanya sebagian kecil nasabah yang merespon positif terhadap tawaran tersebut. Oleh karena itu, diperlukan pendekatan yang lebih **berbasis data** agar strategi pemasaran menjadi lebih efektif dan efisien."
   ]
  },
  {
   "cell_type": "markdown",
   "id": "c1e61bdd-b686-49b2-8b07-9931afc359ee",
   "metadata": {},
   "source": [
    "### **1.2. Permasalahan Utama**\n",
    "Bank menghadapi tantangan dalam menentukan **nasabah mana yang paling berpotensi untuk menerima tawaran deposito berjangka**. Tanpa sistem yang mampu memprediksi respons nasabah, bank cenderung menghabiskan banyak waktu dan biaya untuk menghubungi nasabah yang kemungkinan besar tidak tertarik, yang berdampak pada rendahnya ***Return on Investment (ROI)*** dari kampanye pemasaran."
   ]
  },
  {
   "cell_type": "markdown",
   "id": "601b3a36-8be0-42c1-bf65-541380ae76fc",
   "metadata": {},
   "source": [
    "### **1.3. Rumusan Masalah**\n",
    "1. Bagaimana memprediksi apakah seorang nasabah akan menerima tawaran deposito berjangka sehingga bank dapat mengoptimalkan upaya pemasaran, meningkatkan efisiensi kampanye, dan mengurangi biaya operasional?\n",
    "2. Nasabah seperti apa yang sebaiknya ditargetkan untuk meningkatkan tingkat keberhasilan kampanye pemasaran produk deposito berjangka dan memaksimalkan **ROI**?"
   ]
  },
  {
   "cell_type": "markdown",
   "id": "7436a949-e8fb-4aaa-998e-4788e7f4d933",
   "metadata": {},
   "source": [
    "### **1.4. Tujuan**\n",
    "1. **Mengembangkan model prediktif berbasis *machine learning*** untuk memproyeksikan kemungkinan seorang nasabah menerima tawaran produk deposito.\n",
    "\n",
    "2. **Mengidentifikasi karakteristik nasabah yang memiliki potensi tinggi untuk berlangganan**, guna menyusun strategi segmentasi dan targeting yang lebih efektif.\n",
    "\n",
    "3. **Memberikan *insight* berbasis data** untuk mendukung pengambilan keputusan dalam perencanaan dan pelaksanaan kampanye pemasaran."
   ]
  },
  {
   "cell_type": "markdown",
   "id": "e1f1b046-216c-4afb-8239-4019e40c05ca",
   "metadata": {},
   "source": [
    "### **1.5. Manfaat Bisnis**\n",
    "1. **Meningkatkan rasio konversi** dari kampanye telemarketing.\n",
    "\n",
    "2. **Mengurangi biaya** operasional dan sumber daya yang terbuang untuk nasabah yang tidak potensial.\n",
    "\n",
    "3. **Meningkatkan kepuasan pelanggan** dengan komunikasi yang lebih relevan dan personal.\n",
    "\n",
    "4. **Memaksimalkan laba atas investasi (*ROI*)** dari aktivitas pemasaran."
   ]
  },
  {
   "cell_type": "code",
   "execution_count": null,
   "id": "ae666e74-ad83-4843-aeda-edca269d181f",
   "metadata": {},
   "outputs": [],
   "source": []
  },
  {
   "cell_type": "code",
   "execution_count": null,
   "id": "469aa531-af13-47eb-9e59-9c2d7a45ea7c",
   "metadata": {},
   "outputs": [],
   "source": []
  },
  {
   "cell_type": "markdown",
   "id": "32ec5e2a-cced-4345-952f-cf4595d89afb",
   "metadata": {},
   "source": [
    "## **2. Data Understanding**"
   ]
  },
  {
   "cell_type": "markdown",
   "id": "599d96db-d8cb-42ad-b869-393f109f7715",
   "metadata": {},
   "source": [
    "### **2.1. Sumber Data**\n",
    "\n",
    "Sumber data\n",
    "1. Tautan: https://www.kaggle.com/datasets/volodymyrgavrysh/bank-marketing-campaigns-dataset/code\n",
    "2. Judul: ***Bank marketing campaigns dataset | Opening Deposit***\n",
    "\n",
    "Dataset ini berisi data hasil kampanye pemasaran yang dilakukan oleh sebuah bank di **Portugal**. Kampanye tersebut sebagian besar dilakukan melalui **telepon langsung (*telemarketing*)** kepada nasabah, dengan tujuan untuk menawarkan produk **deposito berjangka (*term deposit*)**.\n",
    "\n",
    "Jika setelah seluruh upaya pemasaran nasabah menyetujui untuk membuka deposito, maka **variabel target** diberi label `yes`, dan jika tidak, maka diberi label `no`."
   ]
  },
  {
   "cell_type": "code",
   "execution_count": null,
   "id": "7f35e623-478a-4ae5-ad0c-558010abd1f5",
   "metadata": {},
   "outputs": [],
   "source": []
  },
  {
   "cell_type": "markdown",
   "id": "5716704a-58e7-4628-aef0-6e09e81b1f87",
   "metadata": {},
   "source": [
    "### **2.2. Dimesi Data**"
   ]
  },
  {
   "cell_type": "code",
   "execution_count": 40,
   "id": "07172ee4-7ec2-4189-a806-de0c182e03b2",
   "metadata": {},
   "outputs": [],
   "source": [
    "import pandas as pd\n",
    "import matplotlib.pyplot as plt\n",
    "import seaborn as sns\n",
    "from IPython.display import Markdown, display\n",
    "from tabulate import tabulate"
   ]
  },
  {
   "cell_type": "code",
   "execution_count": 41,
   "id": "2cf07e69-654a-446f-b5fc-ee9b63ccae70",
   "metadata": {},
   "outputs": [],
   "source": [
    "file_path = \"../data/bank-additional-full.csv\"\n",
    "df = pd.read_csv(file_path, sep=';') "
   ]
  },
  {
   "cell_type": "code",
   "execution_count": 42,
   "id": "040474ad-b3f8-4400-b4b7-85a051c6a0cf",
   "metadata": {},
   "outputs": [],
   "source": [
    "df_shape = df.shape\n",
    "df_dtypes = df.dtypes\n",
    "df_head = df.head()"
   ]
  },
  {
   "cell_type": "code",
   "execution_count": 43,
   "id": "3e29130d-eec0-4b91-a1e4-2ab7fd8404d0",
   "metadata": {},
   "outputs": [
    {
     "data": {
      "text/markdown": [
       "**Dataset ini mempunyai:**\n",
       "- Jumlah data/baris: `41188`\n",
       "- Jumlah atribut/kolom: `21`"
      ],
      "text/plain": [
       "<IPython.core.display.Markdown object>"
      ]
     },
     "metadata": {},
     "output_type": "display_data"
    }
   ],
   "source": [
    "baris, kolom = df.shape\n",
    "display(Markdown(f\"**Dataset ini mempunyai:**\\n- Jumlah data/baris: `{baris}`\\n- Jumlah atribut/kolom: `{kolom}`\"))"
   ]
  },
  {
   "cell_type": "markdown",
   "id": "2fd181d3-0059-4adb-9b4b-989ee8100e1c",
   "metadata": {},
   "source": [
    "### **2.3. Informasi Atribut**"
   ]
  },
  {
   "cell_type": "code",
   "execution_count": 44,
   "id": "e9a6c0fb-baf0-47a8-8bf1-00ed819d2182",
   "metadata": {},
   "outputs": [
    {
     "data": {
      "text/plain": [
       "age                 int64\n",
       "job                object\n",
       "marital            object\n",
       "education          object\n",
       "default            object\n",
       "housing            object\n",
       "loan               object\n",
       "contact            object\n",
       "month              object\n",
       "day_of_week        object\n",
       "duration            int64\n",
       "campaign            int64\n",
       "pdays               int64\n",
       "previous            int64\n",
       "poutcome           object\n",
       "emp.var.rate      float64\n",
       "cons.price.idx    float64\n",
       "cons.conf.idx     float64\n",
       "euribor3m         float64\n",
       "nr.employed       float64\n",
       "y                  object\n",
       "dtype: object"
      ]
     },
     "execution_count": 44,
     "metadata": {},
     "output_type": "execute_result"
    }
   ],
   "source": [
    "df_dtypes"
   ]
  },
  {
   "cell_type": "markdown",
   "id": "593e3617-4ca3-46b2-99b8-698e19040dc9",
   "metadata": {},
   "source": [
    "| Attribute        | Data Type | Jenis Data  | Deskripsi                                                  |\n",
    "| ---------------- | --------- | ----------- | ---------------------------------------------------------- |\n",
    "| `age`            | `int64`   | Numerik     | Usia klien                                                 |\n",
    "| `job`            | `object`  | Kategorikal | Jenis pekerjaan klien                                      |\n",
    "| `marital`        | `object`  | Kategorikal | Status pernikahan klien                                    |\n",
    "| `education`      | `object`  | Kategorikal | Tingkat pendidikan klien                                   |\n",
    "| `default`        | `object`  | Kategorikal | Status kredit klien                                        |\n",
    "| `housing`        | `object`  | Kategorikal | Apakah klien memiliki pinjaman perumahan                   |\n",
    "| `loan`           | `object`  | Kategorikal | Apakah klien memiliki pinjaman pribadi                     |\n",
    "| `contact`        | `object`  | Kategorikal | Jenis komunikasi pada kontak terakhir                      |\n",
    "| `month`          | `object`  | Kategorikal | Bulan kontak terakhir dilakukan                            |\n",
    "| `day_of_week`    | `object`  | Kategorikal | Hari dalam minggu saat kontak terakhir dilakukan           |\n",
    "| `duration`       | `int64`   | Numerik     | Durasi kontak terakhir dalam detik                         |\n",
    "| `campaign`       | `int64`   | Numerik     | Jumlah kontak selama kampanye untuk klien ini              |\n",
    "| `pdays`          | `int64`   | Numerik     | Jumlah hari sejak kontak terakhir dari kampanye sebelumnya |\n",
    "| `previous`       | `int64`   | Numerik     | Jumlah kontak dari kampanye sebelumnya                     |\n",
    "| `poutcome`       | `object`  | Kategorikal | Hasil dari kampanye pemasaran sebelumnya                   |\n",
    "| `emp.var.rate`   | `float64` | Numerik     | Tingkat variasi pekerjaan                                  |\n",
    "| `cons.price.idx` | `float64` | Numerik     | Indeks harga konsumen                                      |\n",
    "| `cons.conf.idx`  | `float64` | Numerik     | Indeks kepercayaan konsumen                                |\n",
    "| `euribor3m`      | `float64` | Numerik     | Tingkat Euribor 3 bulan                                    |\n",
    "| `nr.employed`    | `float64` | Numerik     | Jumlah karyawan                                            |\n",
    "| `y`              | `object`  | Kategorikal | Apakah klien telah berlangganan deposito berjangka?        |\n"
   ]
  },
  {
   "cell_type": "code",
   "execution_count": 48,
   "id": "e215cea3-2162-4b36-9d0b-f9f65721923d",
   "metadata": {},
   "outputs": [
    {
     "ename": "TypeError",
     "evalue": "merge() got an unexpected keyword argument 'showindex'",
     "output_type": "error",
     "traceback": [
      "\u001b[31m---------------------------------------------------------------------------\u001b[39m",
      "\u001b[31mTypeError\u001b[39m                                 Traceback (most recent call last)",
      "\u001b[36mCell\u001b[39m\u001b[36m \u001b[39m\u001b[32mIn[48]\u001b[39m\u001b[32m, line 33\u001b[39m\n\u001b[32m     30\u001b[39m df_deskripsi = pd.DataFrame(deskripsi_manual, columns=[\u001b[33m\"\u001b[39m\u001b[33mAttribute\u001b[39m\u001b[33m\"\u001b[39m, \u001b[33m\"\u001b[39m\u001b[33mJenis Data\u001b[39m\u001b[33m\"\u001b[39m, \u001b[33m\"\u001b[39m\u001b[33mDeskripsi\u001b[39m\u001b[33m\"\u001b[39m])\n\u001b[32m     32\u001b[39m \u001b[38;5;66;03m# 3. Gabungkan kedua DataFrame berdasarkan kolom 'Attribute'\u001b[39;00m\n\u001b[32m---> \u001b[39m\u001b[32m33\u001b[39m df_info_akhir = \u001b[43mpd\u001b[49m\u001b[43m.\u001b[49m\u001b[43mmerge\u001b[49m\u001b[43m(\u001b[49m\u001b[43mdf_dtypes\u001b[49m\u001b[43m,\u001b[49m\u001b[43m \u001b[49m\u001b[43mdf_deskripsi\u001b[49m\u001b[43m,\u001b[49m\u001b[43m \u001b[49m\u001b[43mon\u001b[49m\u001b[43m=\u001b[49m\u001b[33;43m\"\u001b[39;49m\u001b[33;43mAttribute\u001b[39;49m\u001b[33;43m\"\u001b[39;49m\u001b[43m,\u001b[49m\u001b[43m \u001b[49m\u001b[43mhow\u001b[49m\u001b[43m=\u001b[49m\u001b[33;43m\"\u001b[39;49m\u001b[33;43mleft\u001b[39;49m\u001b[33;43m\"\u001b[39;49m\u001b[43m,\u001b[49m\u001b[43m  \u001b[49m\u001b[43mshowindex\u001b[49m\u001b[43m=\u001b[49m\u001b[38;5;28;43;01mFalse\u001b[39;49;00m\u001b[43m)\u001b[49m\n\u001b[32m     35\u001b[39m \u001b[38;5;66;03m# 4. Tampilkan hasil\u001b[39;00m\n\u001b[32m     36\u001b[39m df_info_akhir\n",
      "\u001b[31mTypeError\u001b[39m: merge() got an unexpected keyword argument 'showindex'"
     ]
    }
   ],
   "source": [
    "# 1. Ambil tipe data asli dari DataFrame\n",
    "df_dtypes = pd.DataFrame(df.dtypes, columns=['Data Type']).reset_index()\n",
    "df_dtypes.columns = ['Attribute', 'Data Type']\n",
    "\n",
    "# 2. Buat deskripsi tambahan manual (dari informasi yang Anda berikan)\n",
    "deskripsi_manual = [\n",
    "    [\"age\", \"Numerik\", \"Usia klien\"],\n",
    "    [\"job\", \"Kategorikal\", \"Jenis Pekerjaan Klien\"],\n",
    "    [\"marital\", \"Kategorikal\", \"Status Pernikahan Klien\"],\n",
    "    [\"education\", \"Kategorikal\", \"Tingkat pendidikan klien\"],\n",
    "    [\"default\", \"Kategorikal\", \"Status kredit klien\"],\n",
    "    [\"housing\", \"Kategorikal\", \"Status apakah klien memiliki pinjamanan perumahan\"],\n",
    "    [\"loan\", \"Kategorikal\", \"Status apakah klien memiliki pinjaman pribadi\"],\n",
    "    [\"contact\", \"Kategorikal\", \"Jenis komunikasi kontak terakhir\"],\n",
    "    [\"month\", \"Kategorikal\", \"Bulan kontak terakhir dengan klien dalam tahun ini\"],\n",
    "    [\"day_of_week\", \"Kategorikal\", \"Hari dalam seminggu kontak terakhir dengan klien\"],\n",
    "    [\"duration\", \"Numerikal\", \"Durasi kontak terakhir dengan klien dalam detik\"],\n",
    "    [\"campaign\", \"Numerikal\", \"Jumlah kontak yang dilakukan selama kampanye ini dan untuk klien ini\"],\n",
    "    [\"pdays\", \"Numerikal\", \"Jumlah hari sejak klien terakhir kali dihubungi dari kampanye sebelumnya\"],\n",
    "    [\"previous\", \"Numerikal\", \"Jumlah kontak yang dilakukan sebelum kampanye ini dan untuk klien ini\"],\n",
    "    [\"poutcome\", \"Kategorikal\", \"Hasil dari kampanye pemasaran sebelumnya\"],\n",
    "    [\"emp.var.rate\", \"Numerikal\", \"Tingkat variasi pekerjaan\"],\n",
    "    [\"cons.price.idx\", \"Numerikal\", \"Indeks harga konsumen\"],\n",
    "    [\"cons.conf.idx\", \"Numerikal\", \"Indeks kepercayaan konsumen\"],\n",
    "    [\"euribor3m\", \"Numerikal\", \"Tingkat euribor 3 bulan\"],\n",
    "    [\"nr.employed\", \"Numerikal\", \"Jumlah karyawan\"],\n",
    "    [\"y\", \"Kategorikal\", \"Status apakah klien telah berlangganan deposito berjangka?\"]\n",
    "]\n",
    "\n",
    "df_deskripsi = pd.DataFrame(deskripsi_manual, columns=[\"Attribute\", \"Jenis Data\", \"Deskripsi\"])\n",
    "\n",
    "# 3. Gabungkan kedua DataFrame berdasarkan kolom 'Attribute'\n",
    "df_info_akhir = pd.merge(df_dtypes, df_deskripsi, on=\"Attribute\", how=\"left\")\n",
    "\n",
    "# 4. Tampilkan hasil\n",
    "df_info_akhir\n"
   ]
  },
  {
   "cell_type": "markdown",
   "id": "abe169e6-ee62-4981-97e7-b6b2db4102a3",
   "metadata": {},
   "source": [
    "## **3. Exploratory Data Analysis**"
   ]
  },
  {
   "cell_type": "markdown",
   "id": "82612bec-fb79-4527-8bbc-783cde4e22c7",
   "metadata": {},
   "source": [
    "sd"
   ]
  },
  {
   "cell_type": "code",
   "execution_count": null,
   "id": "f023ba9c-a4b3-475f-9705-62658dc2f355",
   "metadata": {},
   "outputs": [],
   "source": []
  },
  {
   "cell_type": "markdown",
   "id": "92a07722-ce89-42cf-b2bd-dad73ef645cb",
   "metadata": {},
   "source": [
    "## **4. Preprocessing**"
   ]
  },
  {
   "cell_type": "code",
   "execution_count": null,
   "id": "e2406e45-7a10-424e-857f-54a28d3118ab",
   "metadata": {},
   "outputs": [],
   "source": []
  },
  {
   "cell_type": "code",
   "execution_count": null,
   "id": "68bf32b1-8ec2-45ee-be37-bea0af395111",
   "metadata": {},
   "outputs": [],
   "source": []
  },
  {
   "cell_type": "markdown",
   "id": "c43bf6d8-0701-43c2-8c60-4ef452a583b6",
   "metadata": {},
   "source": [
    "### **4.1. Missing Value**"
   ]
  },
  {
   "cell_type": "code",
   "execution_count": null,
   "id": "6470f9da-742e-497f-af5c-967495daef5e",
   "metadata": {},
   "outputs": [],
   "source": []
  },
  {
   "cell_type": "code",
   "execution_count": null,
   "id": "a92a09a3-7912-48c7-87a6-6a5e1425a11f",
   "metadata": {},
   "outputs": [],
   "source": []
  },
  {
   "cell_type": "markdown",
   "id": "ffe05529-2450-442f-b74a-124493e6383e",
   "metadata": {},
   "source": [
    "### **4.2. Casting**"
   ]
  },
  {
   "cell_type": "code",
   "execution_count": null,
   "id": "17cbc5b7-1b50-476e-8406-0931f948853e",
   "metadata": {},
   "outputs": [],
   "source": []
  },
  {
   "cell_type": "code",
   "execution_count": null,
   "id": "bd19579c-c60d-4627-9e43-9cfafa0de555",
   "metadata": {},
   "outputs": [],
   "source": []
  },
  {
   "cell_type": "markdown",
   "id": "dc9809ed-9ead-40d5-bbce-4f9294384043",
   "metadata": {},
   "source": [
    "### **4.3. Inconsistent Variable**"
   ]
  },
  {
   "cell_type": "code",
   "execution_count": null,
   "id": "c04108b8-83b1-44fa-8d28-35e12fdf9d11",
   "metadata": {},
   "outputs": [],
   "source": []
  },
  {
   "cell_type": "code",
   "execution_count": null,
   "id": "7caeaa41-7484-4129-bcbd-88e93be383af",
   "metadata": {},
   "outputs": [],
   "source": []
  },
  {
   "cell_type": "markdown",
   "id": "a1df3ec4-6456-4f2d-8c93-0be38f95fcf2",
   "metadata": {},
   "source": [
    "### **4.4. Remove data duplication**"
   ]
  },
  {
   "cell_type": "code",
   "execution_count": null,
   "id": "82f2c4cb-1d38-4ed8-9c52-28444f962725",
   "metadata": {},
   "outputs": [],
   "source": []
  },
  {
   "cell_type": "code",
   "execution_count": null,
   "id": "5b6863e3-9d5c-4f93-bb0a-ffb3604efe7f",
   "metadata": {},
   "outputs": [],
   "source": []
  },
  {
   "cell_type": "markdown",
   "id": "1aa3f143-e13d-4344-bdaa-1cad405ac361",
   "metadata": {},
   "source": [
    "### **4.5. Feature Engineering**"
   ]
  },
  {
   "cell_type": "code",
   "execution_count": null,
   "id": "2fc3982e-3932-43be-8f23-b8713be3cf0b",
   "metadata": {},
   "outputs": [],
   "source": []
  },
  {
   "cell_type": "code",
   "execution_count": null,
   "id": "dade0ea2-9514-4086-9135-6af22f7591ef",
   "metadata": {},
   "outputs": [],
   "source": []
  },
  {
   "cell_type": "markdown",
   "id": "ae19bf07-9a8f-4e8f-bcff-80565c43732b",
   "metadata": {},
   "source": [
    "## **5. Methodology (Modeling/Analysis)**"
   ]
  },
  {
   "cell_type": "code",
   "execution_count": null,
   "id": "c25a6be0-62f6-4fb6-b28a-a5e759ec245a",
   "metadata": {},
   "outputs": [],
   "source": []
  },
  {
   "cell_type": "markdown",
   "id": "c7e84e21-2621-426c-9e1f-6bec677e0eb0",
   "metadata": {},
   "source": [
    "### **5.1. Analysis Paradigm**"
   ]
  },
  {
   "cell_type": "markdown",
   "id": "ce90ba50-fc45-45fb-8399-8e8b88052769",
   "metadata": {},
   "source": []
  },
  {
   "cell_type": "code",
   "execution_count": null,
   "id": "49dd30ab-16ae-425a-a9f8-75eb16e26f6a",
   "metadata": {},
   "outputs": [],
   "source": []
  },
  {
   "cell_type": "markdown",
   "id": "4e42f29d-42db-4a90-9f96-6b388bd34a0f",
   "metadata": {},
   "source": [
    "### **5.2. Analysis Structure**"
   ]
  },
  {
   "cell_type": "code",
   "execution_count": null,
   "id": "67cbe591-5299-4081-aa6b-3243cb129d6b",
   "metadata": {},
   "outputs": [],
   "source": []
  },
  {
   "cell_type": "code",
   "execution_count": null,
   "id": "9db781bc-d6e7-4b0a-8b2f-9664f315e0af",
   "metadata": {},
   "outputs": [],
   "source": []
  },
  {
   "cell_type": "markdown",
   "id": "1451f08f-fd0f-4d38-a8a2-d0e8bb2d34eb",
   "metadata": {},
   "source": [
    "### **5.3. Expected Analysis Results**"
   ]
  },
  {
   "cell_type": "code",
   "execution_count": null,
   "id": "806e7a97-1852-4972-8407-9da01f1b410a",
   "metadata": {},
   "outputs": [],
   "source": []
  },
  {
   "cell_type": "code",
   "execution_count": null,
   "id": "8cc7c52f-06f9-4117-addf-140714a88f6d",
   "metadata": {},
   "outputs": [],
   "source": []
  },
  {
   "cell_type": "markdown",
   "id": "194ad792-46f8-4f74-8bba-86151a2a178c",
   "metadata": {},
   "source": [
    "## **6. Conclusion and Recommendation**"
   ]
  },
  {
   "cell_type": "code",
   "execution_count": null,
   "id": "b306ef8f-3ce6-457e-9999-e873266bf200",
   "metadata": {},
   "outputs": [],
   "source": []
  },
  {
   "cell_type": "markdown",
   "id": "bdbd263f-c24e-4f27-8401-c6bac550e00d",
   "metadata": {},
   "source": [
    "### **6.1. Conclusion**"
   ]
  },
  {
   "cell_type": "code",
   "execution_count": null,
   "id": "4b29a24c-d9e2-4268-a8dc-1dfb9f9379cb",
   "metadata": {},
   "outputs": [],
   "source": []
  },
  {
   "cell_type": "code",
   "execution_count": null,
   "id": "d1a82b58-d06a-46a5-b678-62089b83727a",
   "metadata": {},
   "outputs": [],
   "source": []
  },
  {
   "cell_type": "markdown",
   "id": "e63da384-a682-410d-8b6f-a7f434930ed4",
   "metadata": {},
   "source": [
    "### **6.2. Recommendation**"
   ]
  },
  {
   "cell_type": "code",
   "execution_count": null,
   "id": "6c59edd8-e2ca-48b6-9768-03f29479bee9",
   "metadata": {},
   "outputs": [],
   "source": []
  }
 ],
 "metadata": {
  "kernelspec": {
   "display_name": "Python 3 (ipykernel)",
   "language": "python",
   "name": "python3"
  },
  "language_info": {
   "codemirror_mode": {
    "name": "ipython",
    "version": 3
   },
   "file_extension": ".py",
   "mimetype": "text/x-python",
   "name": "python",
   "nbconvert_exporter": "python",
   "pygments_lexer": "ipython3",
   "version": "3.12.11"
  }
 },
 "nbformat": 4,
 "nbformat_minor": 5
}
