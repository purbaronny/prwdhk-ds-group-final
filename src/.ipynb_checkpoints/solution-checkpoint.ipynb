{
 "cells": [
  {
   "cell_type": "markdown",
   "id": "c6ca13d6-644f-4ce7-8d2b-b5d3b7185938",
   "metadata": {},
   "source": [
    "# **Bank marketing campaigns**"
   ]
  },
  {
   "cell_type": "markdown",
   "id": "daf6f09e-b214-48d9-98bb-0282262286de",
   "metadata": {},
   "source": [
    "## Disusun Oleh: \n",
    "###             1. CHRISTIAN TJOPUTERA\n",
    "###             2. Ahmad Zaid Makarim\n",
    "###             3. Ronny Sahat Martua Purba"
   ]
  },
  {
   "cell_type": "code",
   "execution_count": null,
   "id": "96ef8a28-aa53-47dc-95de-0a298a26cb23",
   "metadata": {},
   "outputs": [],
   "source": []
  },
  {
   "cell_type": "code",
   "execution_count": null,
   "id": "739463db-a092-459b-a993-9102115ab8ee",
   "metadata": {},
   "outputs": [],
   "source": []
  },
  {
   "cell_type": "markdown",
   "id": "b8f754ad-40a5-4ecc-9f3c-e679fd25b267",
   "metadata": {},
   "source": [
    "## **1. Business Problem Statement**"
   ]
  },
  {
   "cell_type": "code",
   "execution_count": null,
   "id": "224a69a9-a153-4c6b-8bc1-dca096c2ad99",
   "metadata": {},
   "outputs": [],
   "source": []
  },
  {
   "cell_type": "code",
   "execution_count": null,
   "id": "a81cbc07-ba8c-4ed1-bfd2-46736efa3d70",
   "metadata": {},
   "outputs": [],
   "source": []
  },
  {
   "cell_type": "markdown",
   "id": "32ec5e2a-cced-4345-952f-cf4595d89afb",
   "metadata": {},
   "source": [
    "## **2. Data Understanding**"
   ]
  },
  {
   "cell_type": "code",
   "execution_count": null,
   "id": "b854903e-bd93-45b7-a3e8-b1e00cc7a8be",
   "metadata": {},
   "outputs": [],
   "source": []
  },
  {
   "cell_type": "code",
   "execution_count": null,
   "id": "65230531-32ae-4a58-8d54-2c45f5fabf3f",
   "metadata": {},
   "outputs": [],
   "source": []
  },
  {
   "cell_type": "markdown",
   "id": "abe169e6-ee62-4981-97e7-b6b2db4102a3",
   "metadata": {},
   "source": [
    "## **3. Exploratory Data Analysis**"
   ]
  },
  {
   "cell_type": "code",
   "execution_count": null,
   "id": "efaf8d18-63d9-449d-9fd8-0b06afe4a6e4",
   "metadata": {},
   "outputs": [],
   "source": []
  },
  {
   "cell_type": "code",
   "execution_count": null,
   "id": "e94512e6-b025-4f51-bd62-14ca9f1b0da3",
   "metadata": {},
   "outputs": [],
   "source": []
  },
  {
   "cell_type": "markdown",
   "id": "92a07722-ce89-42cf-b2bd-dad73ef645cb",
   "metadata": {},
   "source": [
    "## **4. Preprocessing**"
   ]
  },
  {
   "cell_type": "code",
   "execution_count": null,
   "id": "e2406e45-7a10-424e-857f-54a28d3118ab",
   "metadata": {},
   "outputs": [],
   "source": []
  },
  {
   "cell_type": "code",
   "execution_count": null,
   "id": "68bf32b1-8ec2-45ee-be37-bea0af395111",
   "metadata": {},
   "outputs": [],
   "source": []
  },
  {
   "cell_type": "markdown",
   "id": "c43bf6d8-0701-43c2-8c60-4ef452a583b6",
   "metadata": {},
   "source": [
    "### **4.1. Missing Value**"
   ]
  },
  {
   "cell_type": "code",
   "execution_count": null,
   "id": "6470f9da-742e-497f-af5c-967495daef5e",
   "metadata": {},
   "outputs": [],
   "source": []
  },
  {
   "cell_type": "code",
   "execution_count": null,
   "id": "a92a09a3-7912-48c7-87a6-6a5e1425a11f",
   "metadata": {},
   "outputs": [],
   "source": []
  },
  {
   "cell_type": "markdown",
   "id": "ffe05529-2450-442f-b74a-124493e6383e",
   "metadata": {},
   "source": [
    "### **4.2. Casting**"
   ]
  },
  {
   "cell_type": "code",
   "execution_count": null,
   "id": "17cbc5b7-1b50-476e-8406-0931f948853e",
   "metadata": {},
   "outputs": [],
   "source": []
  },
  {
   "cell_type": "code",
   "execution_count": null,
   "id": "bd19579c-c60d-4627-9e43-9cfafa0de555",
   "metadata": {},
   "outputs": [],
   "source": []
  },
  {
   "cell_type": "markdown",
   "id": "dc9809ed-9ead-40d5-bbce-4f9294384043",
   "metadata": {},
   "source": [
    "### **4.3. Inconsistent Variable**"
   ]
  },
  {
   "cell_type": "code",
   "execution_count": null,
   "id": "c04108b8-83b1-44fa-8d28-35e12fdf9d11",
   "metadata": {},
   "outputs": [],
   "source": []
  },
  {
   "cell_type": "code",
   "execution_count": null,
   "id": "7caeaa41-7484-4129-bcbd-88e93be383af",
   "metadata": {},
   "outputs": [],
   "source": []
  },
  {
   "cell_type": "markdown",
   "id": "a1df3ec4-6456-4f2d-8c93-0be38f95fcf2",
   "metadata": {},
   "source": [
    "### **4.4. Remove data duplication**"
   ]
  },
  {
   "cell_type": "code",
   "execution_count": null,
   "id": "82f2c4cb-1d38-4ed8-9c52-28444f962725",
   "metadata": {},
   "outputs": [],
   "source": []
  },
  {
   "cell_type": "code",
   "execution_count": null,
   "id": "5b6863e3-9d5c-4f93-bb0a-ffb3604efe7f",
   "metadata": {},
   "outputs": [],
   "source": []
  },
  {
   "cell_type": "markdown",
   "id": "1aa3f143-e13d-4344-bdaa-1cad405ac361",
   "metadata": {},
   "source": [
    "### **4.5. Feature Engineering**"
   ]
  },
  {
   "cell_type": "code",
   "execution_count": null,
   "id": "2fc3982e-3932-43be-8f23-b8713be3cf0b",
   "metadata": {},
   "outputs": [],
   "source": []
  },
  {
   "cell_type": "code",
   "execution_count": null,
   "id": "dade0ea2-9514-4086-9135-6af22f7591ef",
   "metadata": {},
   "outputs": [],
   "source": []
  },
  {
   "cell_type": "markdown",
   "id": "ae19bf07-9a8f-4e8f-bcff-80565c43732b",
   "metadata": {},
   "source": [
    "## **5. Methodology (Modeling/Analysis)**"
   ]
  },
  {
   "cell_type": "code",
   "execution_count": null,
   "id": "c25a6be0-62f6-4fb6-b28a-a5e759ec245a",
   "metadata": {},
   "outputs": [],
   "source": []
  },
  {
   "cell_type": "markdown",
   "id": "c7e84e21-2621-426c-9e1f-6bec677e0eb0",
   "metadata": {},
   "source": [
    "### **5.1. Analysis Paradigm**"
   ]
  },
  {
   "cell_type": "markdown",
   "id": "ce90ba50-fc45-45fb-8399-8e8b88052769",
   "metadata": {},
   "source": []
  },
  {
   "cell_type": "code",
   "execution_count": null,
   "id": "49dd30ab-16ae-425a-a9f8-75eb16e26f6a",
   "metadata": {},
   "outputs": [],
   "source": []
  },
  {
   "cell_type": "markdown",
   "id": "4e42f29d-42db-4a90-9f96-6b388bd34a0f",
   "metadata": {},
   "source": [
    "### **5.2. Analysis Structure**"
   ]
  },
  {
   "cell_type": "code",
   "execution_count": null,
   "id": "67cbe591-5299-4081-aa6b-3243cb129d6b",
   "metadata": {},
   "outputs": [],
   "source": []
  },
  {
   "cell_type": "code",
   "execution_count": null,
   "id": "9db781bc-d6e7-4b0a-8b2f-9664f315e0af",
   "metadata": {},
   "outputs": [],
   "source": []
  },
  {
   "cell_type": "markdown",
   "id": "1451f08f-fd0f-4d38-a8a2-d0e8bb2d34eb",
   "metadata": {},
   "source": [
    "### **5.3. Expected Analysis Results**"
   ]
  },
  {
   "cell_type": "code",
   "execution_count": null,
   "id": "806e7a97-1852-4972-8407-9da01f1b410a",
   "metadata": {},
   "outputs": [],
   "source": []
  },
  {
   "cell_type": "code",
   "execution_count": null,
   "id": "8cc7c52f-06f9-4117-addf-140714a88f6d",
   "metadata": {},
   "outputs": [],
   "source": []
  },
  {
   "cell_type": "markdown",
   "id": "194ad792-46f8-4f74-8bba-86151a2a178c",
   "metadata": {},
   "source": [
    "## **6. Conclusion and Recommendation**"
   ]
  },
  {
   "cell_type": "code",
   "execution_count": null,
   "id": "b306ef8f-3ce6-457e-9999-e873266bf200",
   "metadata": {},
   "outputs": [],
   "source": []
  },
  {
   "cell_type": "markdown",
   "id": "bdbd263f-c24e-4f27-8401-c6bac550e00d",
   "metadata": {},
   "source": [
    "### **6.1. Conclusion**"
   ]
  },
  {
   "cell_type": "code",
   "execution_count": null,
   "id": "4b29a24c-d9e2-4268-a8dc-1dfb9f9379cb",
   "metadata": {},
   "outputs": [],
   "source": []
  },
  {
   "cell_type": "code",
   "execution_count": null,
   "id": "d1a82b58-d06a-46a5-b678-62089b83727a",
   "metadata": {},
   "outputs": [],
   "source": []
  },
  {
   "cell_type": "markdown",
   "id": "e63da384-a682-410d-8b6f-a7f434930ed4",
   "metadata": {},
   "source": [
    "### **6.2. Recommendation**"
   ]
  },
  {
   "cell_type": "code",
   "execution_count": null,
   "id": "6c59edd8-e2ca-48b6-9768-03f29479bee9",
   "metadata": {},
   "outputs": [],
   "source": []
  }
 ],
 "metadata": {
  "kernelspec": {
   "display_name": "Python 3 (ipykernel)",
   "language": "python",
   "name": "python3"
  },
  "language_info": {
   "codemirror_mode": {
    "name": "ipython",
    "version": 3
   },
   "file_extension": ".py",
   "mimetype": "text/x-python",
   "name": "python",
   "nbconvert_exporter": "python",
   "pygments_lexer": "ipython3",
   "version": "3.12.11"
  }
 },
 "nbformat": 4,
 "nbformat_minor": 5
}
