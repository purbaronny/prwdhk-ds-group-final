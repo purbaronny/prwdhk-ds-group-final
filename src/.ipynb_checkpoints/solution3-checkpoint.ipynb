{
 "cells": [
  {
   "cell_type": "code",
   "execution_count": null,
   "id": "bd607cf5-aa9b-4635-9dd4-d78c51b14a97",
   "metadata": {},
   "outputs": [],
   "source": []
  },
  {
   "cell_type": "markdown",
   "id": "32678e45-8adf-4d3e-b547-7bb08d7bcf21",
   "metadata": {},
   "source": [
    "## **Business Problem Understanding**"
   ]
  },
  {
   "cell_type": "markdown",
   "id": "25e4c999-1040-4cf6-809e-1db893c82e92",
   "metadata": {},
   "source": [
    "### **Context**\n",
    "Sebuah bank di **Portugal, Eropa** menjalankan kampanye pemasaran melalui ***telemarketing*** untuk menawarkan produk **deposito berjangka (*term deposit*)** kepada nasabah. Salah satu tantangan utama dalam aktivitas ini adalah tingginya **biaya operasional** yang timbul dari penggunaan **waktu telepon (durasi panggilan)**, terutama jika dilakukan dalam skala besar.\n",
    "\n",
    "Selama kampanye berlangsung, data interaksi dengan nasabah terekam, termasuk informasi demografis, riwayat interaksi sebelumnya, serta **durasi percakapan** (`duration`) saat telepon dilakukan. Durasi ini secara langsung berdampak pada **biaya komunikasi**, tetapi juga diketahui sebagai **sinyal kuat apakah nasabah tertarik terhadap penawaran atau tidak**.\n",
    "\n",
    "Perusahaan ingin mengetahui bagaimana durasi percakapan dapat dimanfaatkan secara **efisien** agar:\n",
    "\n",
    "1. Tidak membuang biaya untuk nasabah yang tidak tertarik,\n",
    "\n",
    "2. Tapi tetap mengoptimalkan konversi pada nasabah yang potensial membuka deposito.\n",
    "\n",
    "Target\n",
    "* `0`: Nasabah **tidak membuka** deposito (`y = no`)\n",
    "* `1`: Nasabah **membuka deposito** (`y = yes`)"
   ]
  },
  {
   "cell_type": "markdown",
   "id": "7b681065-6ff0-4bec-a9ba-02c544e54d51",
   "metadata": {},
   "source": [
    "### **Problem Statement**\n",
    "Menjalankan kampanye telemarketing secara masif kepada seluruh nasabah tanpa diferensiasi berisiko menyebabkan **pemborosan biaya komunikasi**, khususnya ketika panggilan dilakukan dalam durasi panjang namun tidak menghasilkan konversi.\n",
    "\n",
    "Perusahaan ingin meningkatkan efisiensi kampanye dengan cara:\n",
    "\n",
    "1. Mengetahui **nasabah mana yang berpotensi membuka deposito**\n",
    "\n",
    "2. Menentukan **durasi optimal percakapan** untuk meminimalkan biaya\n",
    "\n",
    "3. Membangun **strategi cut-off waktu** saat menelepon agar menghindari panggilan yang panjang namun tidak efektif"
   ]
  },
  {
   "cell_type": "markdown",
   "id": "75c987fa-8aa1-4624-ad5a-b9a2afe448d1",
   "metadata": {},
   "source": [
    "### **Metric Evaluation**"
   ]
  },
  {
   "cell_type": "markdown",
   "id": "7e24ae9c-c4c3-4532-bb4f-5fa4d5f6c169",
   "metadata": {},
   "source": [
    "|                                     | **PREDICTED: Tidak buka deposito (0)**                                                               | **PREDICTED: Buka deposito (1)**                                                              |\n",
    "| ----------------------------------- | ---------------------------------------------------------------------------------------------------- | --------------------------------------------------------------------------------------------- |\n",
    "| **ACTUAL: Tidak buka deposito (0)** | **True Negative (TN)**<br>Model memprediksi nasabah tidak membuka deposito, dan memang tidak membuka | **False Positive (FP)**<br>Model memprediksi nasabah akan membuka deposito, padahal tidak     |\n",
    "| **ACTUAL: Buka deposito (1)**       | **False Negative (FN)**<br>Model memprediksi nasabah tidak membuka deposito, padahal tertarik        | **True Positive (TP)**<br>Model memprediksi nasabah akan membuka deposito, dan memang membuka |\n"
   ]
  },
  {
   "cell_type": "markdown",
   "id": "cfe18a30-13e1-4c78-8fb5-dc795dca0a1e",
   "metadata": {},
   "source": [
    "#### **Error Analysis**\n",
    "Type 1 Error (False Positive)\n",
    "\n",
    "❗ Model bilang nasabah akan tertarik, tapi ternyata tidak.\n",
    "\n",
    "💸 Konsekuensi: Biaya telepon terbuang sia-sia, waktu agent habis, pulsa & tenaga terbuang.\n",
    "\n",
    "Type 2 Error (False Negative)\n",
    "\n",
    "❗ Model bilang nasabah tidak tertarik, padahal sebenarnya tertarik.\n",
    "\n",
    "📉 Konsekuensi: Kehilangan nasabah potensial yang seharusnya bisa buka deposito → rugi peluang bisnis.\n",
    "\n",
    "#### **Trade-off & Strategi**\n",
    "\n",
    "Berdasarkan konsekuensinya:\n",
    "\n",
    "1. Kita **tidak ingin terlalu banyak False Positives** → buang biaya\n",
    "\n",
    "2. Tapi juga **tidak boleh terlalu banyak False Negatives** → kehilangan target prospek\n",
    "\n",
    "Artinya, model perlu seimbang:\n",
    "\n",
    "1. **Precision tinggi** → agar prediksi `ya` benar-benar akurat\n",
    "\n",
    "2. **Recall tinggi** → agar tidak melewatkan nasabah potensial\n",
    "\n",
    "#### **Metrik Evaluasi Utama**\n",
    "\n",
    "1. **F1-Score**: Keseimbangan antara Precision & Recall\n",
    "\n",
    "2. **Precision-Recall Curve**: Sangat baik untuk dataset yang imbalanced (`y = yes` lebih sedikit)\n",
    "\n",
    "3. **ROC AUC**: Bisa digunakan juga, tapi perlu hati-hati jika data tidak seimbang\n",
    "\n",
    "#### **Kesimpulan**\n",
    "Untuk kampanye telemarketing deposito:\n",
    "\n",
    "Kita butuh model klasifikasi yang dapat **mengenali nasabah potensial** membuka deposito, **sambil menekan jumlah telepon yang sia-sia**."
   ]
  },
  {
   "cell_type": "code",
   "execution_count": null,
   "id": "0aa0084b-6bba-41bb-b401-d5f42b6c1164",
   "metadata": {},
   "outputs": [],
   "source": []
  }
 ],
 "metadata": {
  "kernelspec": {
   "display_name": "Python 3 (ipykernel)",
   "language": "python",
   "name": "python3"
  },
  "language_info": {
   "codemirror_mode": {
    "name": "ipython",
    "version": 3
   },
   "file_extension": ".py",
   "mimetype": "text/x-python",
   "name": "python",
   "nbconvert_exporter": "python",
   "pygments_lexer": "ipython3",
   "version": "3.12.11"
  }
 },
 "nbformat": 4,
 "nbformat_minor": 5
}
