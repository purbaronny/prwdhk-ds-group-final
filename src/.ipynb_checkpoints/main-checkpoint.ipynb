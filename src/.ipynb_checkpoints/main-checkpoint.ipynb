{
 "cells": [
  {
   "cell_type": "markdown",
   "id": "6ced246b-34db-40d6-ac70-5eb57f7a908b",
   "metadata": {},
   "source": [
    "# **Bank marketing campaigns**"
   ]
  },
  {
   "cell_type": "markdown",
   "id": "1dbf5394-6fc5-4e7d-83a2-b710899923e0",
   "metadata": {},
   "source": [
    "## Disusun Oleh: \n",
    "###             1. CHRISTIAN TJOPUTERA\n",
    "###             2. Ahmad Zaid Makarim\n",
    "###             3. Ronny Sahat Martua Purba"
   ]
  },
  {
   "cell_type": "markdown",
   "id": "41dbfe30-6d1a-41d6-9451-dbaeb963515d",
   "metadata": {},
   "source": [
    "## **Business Problem Understanding**\n",
    "\n",
    "### **Latar Belakang**\n",
    "\n",
    "Sebuah bank di Portugal - Eropa sedang melakukan **kampanye pemasaran** untuk mempromosikan produk **deposito berjangka (*term deposit*)** kepada calon nasabah. Mereka menggunakan  **panggilan telepon langsung (*direct telemarketing*)** untuk menjangkau nasabah, dan ingin meningkatkan efektivitas kampanye tersebut.\n",
    "\n",
    "Ini adalah dataset dari kampanye pemasaran bank, biasanya digunakan untuk klasifikasi apakah seorang nasabah akan berlangganan deposito berjangka (y: yes/no).\n",
    "\n",
    "### **Permasalahan Utama**\n",
    "\n",
    "Telemarketing adalah metode yang memakan banyak biaya dan waktu, apalagi jika banyak panggilan tidak menghasilkan konversi. Maka, pertanyaan bisnisnya adalah:\n",
    "\n",
    "**\"Bagaimana cara mengidentifikasi nasabah yang berpotensi tertarik untuk berlangganan deposito berjangka sebelum melakukan panggilan telemarketing?\"**\n",
    "\n",
    "### **Tujuan Bisnis**\n",
    "\n",
    "1. **Meningkatkan efisiensi** kampanye pemasaran telepon.\n",
    "\n",
    "2. **Mengurangi biaya operasional** dengan meminimalkan panggilan ke nasabah yang kemungkinan besar akan menolak.\n",
    "\n",
    "3. **Meningkatkan rasio konversi** dari kampanye menjadi pelanggan deposito.\n",
    "\n",
    "### **Keluaran yang Diinginkan**\n",
    "\n",
    "Model atau analisis yang dapat:\n",
    "\n",
    "1. Memprediksi apakah seorang nasabah akan berkata \"yes\" terhadap penawaran deposito.\n",
    "\n",
    "2. Memberikan analisa karakteristik nasabah yang lebih cenede \n",
    "\n",
    "3. Memberikan rekomendasi segmentasi pelanggan yang lebih berpeluang dikonversi.\n",
    "\n",
    "### **Nilai Bisnis**\n",
    "\n",
    "1. **Penghematan biaya marketing**, karena panggilan hanya difokuskan pada target yang potensial.\n",
    "\n",
    "2. **Efisiensi waktu dan tenaga kerja** dari agen telemarketing.\n",
    "\n",
    "3. **Peningkatan pendapatan** dari jumlah deposito berjangka yang lebih tinggi.\n",
    "\n",
    "### **Peran Data Science**\n",
    "Peran Data Science\n",
    "Data science dapat membantu dengan:\n",
    "\n",
    "1. **EDA (*Exploratory Data Analysis*)** untuk memahami karakteristik nasabah yang berkata “yes”.\n",
    "\n",
    "2. **Model prediksi (*machine learning*)** untuk memfilter target kampanye.\n",
    "\n",
    "3. ***Insight* visualisasi** untuk mendukung strategi pemasaran berbasis data."
   ]
  },
  {
   "cell_type": "markdown",
   "id": "fbc0f998-c9d7-4d9c-9540-4b8f8a6739f3",
   "metadata": {},
   "source": [
    "## **Data Understanding**\n",
    "\n",
    "### **Sumber Data**\n",
    "Dataset source: https://www.kaggle.com/datasets/volodymyrgavrysh/bank-marketing-campaigns-dataset/code\n",
    "\n"
   ]
  },
  {
   "cell_type": "code",
   "execution_count": 1,
   "id": "4b0b85cc-41ca-4351-b2b1-d5e44e94fb9e",
   "metadata": {},
   "outputs": [],
   "source": [
    "import pandas as pd"
   ]
  },
  {
   "cell_type": "code",
   "execution_count": 2,
   "id": "c8154b26-4f53-46f9-880c-25bd95c1b6c2",
   "metadata": {},
   "outputs": [],
   "source": [
    "file_path = \"../data/bank-additional-full.csv\"\n",
    "df = pd.read_csv(file_path, sep=';') "
   ]
  },
  {
   "cell_type": "code",
   "execution_count": 10,
   "id": "3bacabb9-6808-47e4-bbfe-d6bdd1073580",
   "metadata": {},
   "outputs": [],
   "source": [
    "df_shape = df.shape\n",
    "df_dtypes = df.dtypes\n",
    "df_head = df.head()"
   ]
  },
  {
   "cell_type": "code",
   "execution_count": 7,
   "id": "8a76f23e-a8bf-4075-b5ce-26da381c1bb1",
   "metadata": {},
   "outputs": [
    {
     "data": {
      "text/plain": [
       "(41188, 21)"
      ]
     },
     "execution_count": 7,
     "metadata": {},
     "output_type": "execute_result"
    }
   ],
   "source": [
    "df_shape"
   ]
  },
  {
   "cell_type": "code",
   "execution_count": 11,
   "id": "930cb332-1cff-4ff6-a962-869d070e3221",
   "metadata": {},
   "outputs": [
    {
     "data": {
      "text/plain": [
       "age                 int64\n",
       "job                object\n",
       "marital            object\n",
       "education          object\n",
       "default            object\n",
       "housing            object\n",
       "loan               object\n",
       "contact            object\n",
       "month              object\n",
       "day_of_week        object\n",
       "duration            int64\n",
       "campaign            int64\n",
       "pdays               int64\n",
       "previous            int64\n",
       "poutcome           object\n",
       "emp.var.rate      float64\n",
       "cons.price.idx    float64\n",
       "cons.conf.idx     float64\n",
       "euribor3m         float64\n",
       "nr.employed       float64\n",
       "y                  object\n",
       "dtype: object"
      ]
     },
     "execution_count": 11,
     "metadata": {},
     "output_type": "execute_result"
    }
   ],
   "source": [
    "df_dtypes"
   ]
  },
  {
   "cell_type": "code",
   "execution_count": 12,
   "id": "6c7fc480-3a50-4815-9e62-cf2267421b8d",
   "metadata": {},
   "outputs": [
    {
     "data": {
      "text/html": [
       "<div>\n",
       "<style scoped>\n",
       "    .dataframe tbody tr th:only-of-type {\n",
       "        vertical-align: middle;\n",
       "    }\n",
       "\n",
       "    .dataframe tbody tr th {\n",
       "        vertical-align: top;\n",
       "    }\n",
       "\n",
       "    .dataframe thead th {\n",
       "        text-align: right;\n",
       "    }\n",
       "</style>\n",
       "<table border=\"1\" class=\"dataframe\">\n",
       "  <thead>\n",
       "    <tr style=\"text-align: right;\">\n",
       "      <th></th>\n",
       "      <th>age</th>\n",
       "      <th>job</th>\n",
       "      <th>marital</th>\n",
       "      <th>education</th>\n",
       "      <th>default</th>\n",
       "      <th>housing</th>\n",
       "      <th>loan</th>\n",
       "      <th>contact</th>\n",
       "      <th>month</th>\n",
       "      <th>day_of_week</th>\n",
       "      <th>...</th>\n",
       "      <th>campaign</th>\n",
       "      <th>pdays</th>\n",
       "      <th>previous</th>\n",
       "      <th>poutcome</th>\n",
       "      <th>emp.var.rate</th>\n",
       "      <th>cons.price.idx</th>\n",
       "      <th>cons.conf.idx</th>\n",
       "      <th>euribor3m</th>\n",
       "      <th>nr.employed</th>\n",
       "      <th>y</th>\n",
       "    </tr>\n",
       "  </thead>\n",
       "  <tbody>\n",
       "    <tr>\n",
       "      <th>0</th>\n",
       "      <td>56</td>\n",
       "      <td>housemaid</td>\n",
       "      <td>married</td>\n",
       "      <td>basic.4y</td>\n",
       "      <td>no</td>\n",
       "      <td>no</td>\n",
       "      <td>no</td>\n",
       "      <td>telephone</td>\n",
       "      <td>may</td>\n",
       "      <td>mon</td>\n",
       "      <td>...</td>\n",
       "      <td>1</td>\n",
       "      <td>999</td>\n",
       "      <td>0</td>\n",
       "      <td>nonexistent</td>\n",
       "      <td>1.1</td>\n",
       "      <td>93.994</td>\n",
       "      <td>-36.4</td>\n",
       "      <td>4.857</td>\n",
       "      <td>5191.0</td>\n",
       "      <td>no</td>\n",
       "    </tr>\n",
       "    <tr>\n",
       "      <th>1</th>\n",
       "      <td>57</td>\n",
       "      <td>services</td>\n",
       "      <td>married</td>\n",
       "      <td>high.school</td>\n",
       "      <td>unknown</td>\n",
       "      <td>no</td>\n",
       "      <td>no</td>\n",
       "      <td>telephone</td>\n",
       "      <td>may</td>\n",
       "      <td>mon</td>\n",
       "      <td>...</td>\n",
       "      <td>1</td>\n",
       "      <td>999</td>\n",
       "      <td>0</td>\n",
       "      <td>nonexistent</td>\n",
       "      <td>1.1</td>\n",
       "      <td>93.994</td>\n",
       "      <td>-36.4</td>\n",
       "      <td>4.857</td>\n",
       "      <td>5191.0</td>\n",
       "      <td>no</td>\n",
       "    </tr>\n",
       "    <tr>\n",
       "      <th>2</th>\n",
       "      <td>37</td>\n",
       "      <td>services</td>\n",
       "      <td>married</td>\n",
       "      <td>high.school</td>\n",
       "      <td>no</td>\n",
       "      <td>yes</td>\n",
       "      <td>no</td>\n",
       "      <td>telephone</td>\n",
       "      <td>may</td>\n",
       "      <td>mon</td>\n",
       "      <td>...</td>\n",
       "      <td>1</td>\n",
       "      <td>999</td>\n",
       "      <td>0</td>\n",
       "      <td>nonexistent</td>\n",
       "      <td>1.1</td>\n",
       "      <td>93.994</td>\n",
       "      <td>-36.4</td>\n",
       "      <td>4.857</td>\n",
       "      <td>5191.0</td>\n",
       "      <td>no</td>\n",
       "    </tr>\n",
       "    <tr>\n",
       "      <th>3</th>\n",
       "      <td>40</td>\n",
       "      <td>admin.</td>\n",
       "      <td>married</td>\n",
       "      <td>basic.6y</td>\n",
       "      <td>no</td>\n",
       "      <td>no</td>\n",
       "      <td>no</td>\n",
       "      <td>telephone</td>\n",
       "      <td>may</td>\n",
       "      <td>mon</td>\n",
       "      <td>...</td>\n",
       "      <td>1</td>\n",
       "      <td>999</td>\n",
       "      <td>0</td>\n",
       "      <td>nonexistent</td>\n",
       "      <td>1.1</td>\n",
       "      <td>93.994</td>\n",
       "      <td>-36.4</td>\n",
       "      <td>4.857</td>\n",
       "      <td>5191.0</td>\n",
       "      <td>no</td>\n",
       "    </tr>\n",
       "    <tr>\n",
       "      <th>4</th>\n",
       "      <td>56</td>\n",
       "      <td>services</td>\n",
       "      <td>married</td>\n",
       "      <td>high.school</td>\n",
       "      <td>no</td>\n",
       "      <td>no</td>\n",
       "      <td>yes</td>\n",
       "      <td>telephone</td>\n",
       "      <td>may</td>\n",
       "      <td>mon</td>\n",
       "      <td>...</td>\n",
       "      <td>1</td>\n",
       "      <td>999</td>\n",
       "      <td>0</td>\n",
       "      <td>nonexistent</td>\n",
       "      <td>1.1</td>\n",
       "      <td>93.994</td>\n",
       "      <td>-36.4</td>\n",
       "      <td>4.857</td>\n",
       "      <td>5191.0</td>\n",
       "      <td>no</td>\n",
       "    </tr>\n",
       "  </tbody>\n",
       "</table>\n",
       "<p>5 rows × 21 columns</p>\n",
       "</div>"
      ],
      "text/plain": [
       "   age        job  marital    education  default housing loan    contact  \\\n",
       "0   56  housemaid  married     basic.4y       no      no   no  telephone   \n",
       "1   57   services  married  high.school  unknown      no   no  telephone   \n",
       "2   37   services  married  high.school       no     yes   no  telephone   \n",
       "3   40     admin.  married     basic.6y       no      no   no  telephone   \n",
       "4   56   services  married  high.school       no      no  yes  telephone   \n",
       "\n",
       "  month day_of_week  ...  campaign  pdays  previous     poutcome emp.var.rate  \\\n",
       "0   may         mon  ...         1    999         0  nonexistent          1.1   \n",
       "1   may         mon  ...         1    999         0  nonexistent          1.1   \n",
       "2   may         mon  ...         1    999         0  nonexistent          1.1   \n",
       "3   may         mon  ...         1    999         0  nonexistent          1.1   \n",
       "4   may         mon  ...         1    999         0  nonexistent          1.1   \n",
       "\n",
       "   cons.price.idx  cons.conf.idx  euribor3m  nr.employed   y  \n",
       "0          93.994          -36.4      4.857       5191.0  no  \n",
       "1          93.994          -36.4      4.857       5191.0  no  \n",
       "2          93.994          -36.4      4.857       5191.0  no  \n",
       "3          93.994          -36.4      4.857       5191.0  no  \n",
       "4          93.994          -36.4      4.857       5191.0  no  \n",
       "\n",
       "[5 rows x 21 columns]"
      ]
     },
     "execution_count": 12,
     "metadata": {},
     "output_type": "execute_result"
    }
   ],
   "source": [
    "df_head"
   ]
  },
  {
   "cell_type": "markdown",
   "id": "d9faa0e9-4028-4ec0-9a41-af3a59bf7c80",
   "metadata": {},
   "source": [
    "## **Pemahaman Data**"
   ]
  },
  {
   "cell_type": "markdown",
   "id": "569548ed-3e61-4724-be5e-0ad6e99135e7",
   "metadata": {},
   "source": [
    "### **1. Atribut Information**"
   ]
  },
  {
   "cell_type": "markdown",
   "id": "a1720ec5-48a1-4256-bd35-25f998aeca76",
   "metadata": {},
   "source": [
    "| Attribute | Data Type | Description |\n",
    "| --- | --- | --- |\n",
    "| age | Numerik | Usia klien |\n",
    "| job | Kategorikal | Jenis Pekerjaan Klien |\n",
    "| marital | Kategorikal | Status Pernikahan Klien |\n",
    "| education | Kategorikal | Tingkat pendidikan klien |\n",
    "| default | Kategorikal | Status kredit klien |\n",
    "| hosuing | Kategorikal | Status apakah klien memiliki pinjamanan perumahan |\n",
    "| loan | Kategorikal | Status apakah klien memiliki pinjaman pribadi |\n",
    "| contact | Kategorikal | Jenis komunikasi kontak terakhir |\n",
    "| month | Kategorikal | Bulan kontah terakhir dengan klien dalam tahun ini |\n",
    "| day_of_week | Kategorikal | hari dalam seminggu kontak terakhir dengan klien |\n",
    "| duration | Numerikal | Durasi kontak terakhir dengan klien dalam detik |\n",
    "| campaign | Numerikal | Jumlah kontak yang dilakukan selama kampanye ini dan untuk klien ini |\n",
    "| pdays | Numerikal | Jumlah hari sejak klien terakhir kali dihubungi dari kampanye sebelumnya |\n",
    "| previous | Numerikal | Jumlah kontak yang dilakukan sebelum kampanye ini dan untuk klien ini |\n",
    "| poutcome | Kategorikal | Hasil dari kampanye pemasaran sebelumnya  |\n",
    "| emp.var.rate | Numerikal | Tingkat variasi pekerjaan |\n",
    "| cons.price.idx  | Numerikal | Indeks harga konsumen |\n",
    "| cons.conf.idx  | Numerikal | Indeks kepercayaan konsumen |\n",
    "| euribor3m | Numerikal | Tingkat euribor 3 bulan |\n",
    "| nr.employed | Numerikal | Jumlah karyawan |\n",
    "| y | Kategorikal | Status apakah klien telah berlangganan deposito berjangka? |"
   ]
  },
  {
   "cell_type": "markdown",
   "id": "8f1d5fd3-2b66-437e-9d88-700b142b3e09",
   "metadata": {},
   "source": [
    "### **2. Kategori Fitur**"
   ]
  },
  {
   "cell_type": "code",
   "execution_count": 8,
   "id": "bacec55c-d672-4b4f-862c-1320eacfa7f0",
   "metadata": {},
   "outputs": [
    {
     "data": {
      "text/plain": [
       "job            12\n",
       "month          10\n",
       "education       8\n",
       "day_of_week     5\n",
       "marital         4\n",
       "default         3\n",
       "housing         3\n",
       "loan            3\n",
       "poutcome        3\n",
       "contact         2\n",
       "y               2\n",
       "dtype: int64"
      ]
     },
     "execution_count": 8,
     "metadata": {},
     "output_type": "execute_result"
    }
   ],
   "source": [
    "categorical_summary = df.select_dtypes(include='object').nunique().sort_values(ascending=False)\n",
    "\n",
    "categorical_summary "
   ]
  },
  {
   "cell_type": "markdown",
   "id": "37e077a5-e255-42f2-bd91-b7b473924098",
   "metadata": {},
   "source": [
    "| Kolom         | Jumlah Kategori Unik |\n",
    "| ------------- | -------------------- |\n",
    "| job           | 12                   |\n",
    "| month         | 10                   |\n",
    "| education     | 8                    |\n",
    "| day\\_of\\_week | 5                    |\n",
    "| marital       | 4                    |\n",
    "| default       | 3                    |\n",
    "| housing       | 3                    |\n",
    "| loan          | 3                    |\n",
    "| poutcome      | 3                    |\n",
    "| contact       | 2                    |\n",
    "| y (target)    | 2 (`yes`, `no`)      |\n"
   ]
  },
  {
   "cell_type": "code",
   "execution_count": 11,
   "id": "8f7eabe5-5b9c-4b1e-a7f6-18027ae5079d",
   "metadata": {},
   "outputs": [
    {
     "data": {
      "text/plain": [
       "array(['housemaid', 'services', 'admin.', 'blue-collar', 'technician',\n",
       "       'retired', 'management', 'unemployed', 'self-employed', 'unknown',\n",
       "       'entrepreneur', 'student'], dtype=object)"
      ]
     },
     "execution_count": 11,
     "metadata": {},
     "output_type": "execute_result"
    }
   ],
   "source": [
    "unique_jobs = df['job'].unique()\n",
    "\n",
    "unique_jobs"
   ]
  },
  {
   "cell_type": "markdown",
   "id": "d7b52b7b-1064-473d-baeb-0a692788331d",
   "metadata": {},
   "source": [
    "#### **2.1. Kategori Fitur: `job`**"
   ]
  },
  {
   "cell_type": "code",
   "execution_count": 12,
   "id": "e5bb6e6c-74d5-40e3-9065-532f0872075a",
   "metadata": {},
   "outputs": [
    {
     "name": "stdout",
     "output_type": "stream",
     "text": [
      "              Job  Total\n",
      "0          admin.  10422\n",
      "1     blue-collar   9254\n",
      "2      technician   6743\n",
      "3        services   3969\n",
      "4      management   2924\n",
      "5         retired   1720\n",
      "6    entrepreneur   1456\n",
      "7   self-employed   1421\n",
      "8       housemaid   1060\n",
      "9      unemployed   1014\n",
      "10        student    875\n",
      "11        unknown    330\n"
     ]
    }
   ],
   "source": [
    "# Menghitung jumlah masing-masing kategori pada kolom 'job'\n",
    "job_counts = df['job'].value_counts().reset_index()\n",
    "\n",
    "# Ubah nama kolom agar lebih informatif\n",
    "job_counts.columns = ['Job', 'Total']\n",
    "\n",
    "# Tampilkan tabel\n",
    "print(job_counts)\n"
   ]
  },
  {
   "cell_type": "markdown",
   "id": "4a6b9915-dfe5-45ca-ab1c-b079fc568425",
   "metadata": {},
   "source": [
    "#### **2.2. Kategori Fitur: `month`**"
   ]
  },
  {
   "cell_type": "code",
   "execution_count": 14,
   "id": "ccf0d24c-0688-4d4e-8364-ad11e6a93908",
   "metadata": {},
   "outputs": [
    {
     "name": "stdout",
     "output_type": "stream",
     "text": [
      "  Month  Total\n",
      "8   mar    546\n",
      "5   apr   2632\n",
      "0   may  13769\n",
      "3   jun   5318\n",
      "1   jul   7174\n",
      "2   aug   6178\n",
      "7   sep    570\n",
      "6   oct    718\n",
      "4   nov   4101\n",
      "9   dec    182\n"
     ]
    }
   ],
   "source": [
    "# Hitung jumlah masing-masing bulan\n",
    "month_counts = df['month'].value_counts().reset_index()\n",
    "month_counts.columns = ['Month', 'Total']\n",
    "\n",
    "# Buat urutan bulan yang benar\n",
    "month_order = ['jan', 'feb', 'mar', 'apr', 'may', 'jun', \n",
    "               'jul', 'aug', 'sep', 'oct', 'nov', 'dec']\n",
    "\n",
    "# Filter hanya bulan yang ada di data, lalu urutkan sesuai urutan kalender\n",
    "month_counts = month_counts[month_counts['Month'].isin(month_order)]\n",
    "month_counts['Month'] = pd.Categorical(month_counts['Month'], categories=month_order, ordered=True)\n",
    "month_counts = month_counts.sort_values('Month')\n",
    "\n",
    "# Tampilkan tabel\n",
    "print(month_counts)\n"
   ]
  },
  {
   "cell_type": "markdown",
   "id": "48be2661-9690-4261-9caf-db923dd130da",
   "metadata": {},
   "source": [
    "#### **2.3. Kategori Fitur: `education`**"
   ]
  },
  {
   "cell_type": "code",
   "execution_count": 15,
   "id": "d039fc7d-3782-4d38-8b26-01c93d288788",
   "metadata": {},
   "outputs": [
    {
     "name": "stdout",
     "output_type": "stream",
     "text": [
      "             Education  Total\n",
      "0    university.degree  12168\n",
      "1          high.school   9515\n",
      "2             basic.9y   6045\n",
      "3  professional.course   5243\n",
      "4             basic.4y   4176\n",
      "5             basic.6y   2292\n",
      "6              unknown   1731\n",
      "7           illiterate     18\n"
     ]
    }
   ],
   "source": [
    "# Menghitung jumlah masing-masing kategori pada kolom 'education'\n",
    "education_counts = df['education'].value_counts().reset_index()\n",
    "\n",
    "# Ubah nama kolom agar lebih informatif\n",
    "education_counts.columns = ['Education', 'Total']\n",
    "\n",
    "# Tampilkan tabel\n",
    "print(education_counts)"
   ]
  },
  {
   "cell_type": "markdown",
   "id": "b54fa049-ca2b-4bef-9959-14f7c14b8be8",
   "metadata": {},
   "source": [
    "#### **2.4. Kategori Fitur: `day_of_week`**"
   ]
  },
  {
   "cell_type": "code",
   "execution_count": 18,
   "id": "77b88f04-8a17-4437-8b0f-9b50d341599b",
   "metadata": {},
   "outputs": [
    {
     "name": "stdout",
     "output_type": "stream",
     "text": [
      "  Day Of Week  Total\n",
      "1         mon   8514\n",
      "3         tue   8090\n",
      "2         wed   8134\n",
      "0         thu   8623\n",
      "4         fri   7827\n"
     ]
    }
   ],
   "source": [
    "# Hitung jumlah masing-masing hari\n",
    "day_of_week_counts = df['day_of_week'].value_counts().reset_index()\n",
    "day_of_week_counts.columns = ['Day Of Week', 'Total']\n",
    "\n",
    "# Buat urutan hari kerja\n",
    "day_order = ['mon', 'tue', 'wed', 'thu', 'fri']\n",
    "\n",
    "# Ubah ke kategori bertipe urutan dan urutkan\n",
    "day_of_week_counts['Day Of Week'] = pd.Categorical(day_of_week_counts['Day Of Week'], categories=day_order, ordered=True)\n",
    "day_of_week_counts = day_of_week_counts.sort_values('Day Of Week')\n",
    "\n",
    "# Tampilkan tabel\n",
    "print(day_of_week_counts)\n"
   ]
  },
  {
   "cell_type": "markdown",
   "id": "3214d9df-9dd4-4015-8ced-6a2eb160031a",
   "metadata": {},
   "source": [
    "#### **2.5. Kategori Fitur: `marital`**"
   ]
  },
  {
   "cell_type": "code",
   "execution_count": 20,
   "id": "f17b6377-f236-4e3a-8a7b-99d1d0eb0065",
   "metadata": {},
   "outputs": [
    {
     "name": "stdout",
     "output_type": "stream",
     "text": [
      "    Marital  Total\n",
      "0   married  24928\n",
      "1    single  11568\n",
      "2  divorced   4612\n",
      "3   unknown     80\n"
     ]
    }
   ],
   "source": [
    "# Menghitung jumlah masing-masing kategori pada kolom 'marital'\n",
    "marital_counts = df['marital'].value_counts().reset_index()\n",
    "\n",
    "# Ubah nama kolom agar lebih informatif\n",
    "marital_counts.columns = ['Marital', 'Total']\n",
    "\n",
    "# Tampilkan tabel\n",
    "print(marital_counts)"
   ]
  },
  {
   "cell_type": "markdown",
   "id": "b26b7876-d06f-441a-8c97-38af8c7e2ec6",
   "metadata": {},
   "source": [
    "#### **2.6. Kategori Fitur: `default`**"
   ]
  },
  {
   "cell_type": "code",
   "execution_count": 21,
   "id": "88258de4-854f-46ac-ba6e-8addbc8b0ffc",
   "metadata": {},
   "outputs": [
    {
     "name": "stdout",
     "output_type": "stream",
     "text": [
      "   Default  Total\n",
      "0       no  32588\n",
      "1  unknown   8597\n",
      "2      yes      3\n"
     ]
    }
   ],
   "source": [
    "# Menghitung jumlah masing-masing kategori pada kolom 'default'\n",
    "default_counts = df['default'].value_counts().reset_index()\n",
    "\n",
    "# Ubah nama kolom agar lebih informatif\n",
    "default_counts.columns = ['Default', 'Total']\n",
    "\n",
    "# Tampilkan tabel\n",
    "print(default_counts)"
   ]
  },
  {
   "cell_type": "markdown",
   "id": "20a04989-4e00-4b63-bc0c-c09931a7e49a",
   "metadata": {},
   "source": [
    "#### **2.7. Kategori Fitur: `housing`**"
   ]
  },
  {
   "cell_type": "code",
   "execution_count": 22,
   "id": "1b382772-1b04-43a4-be92-3f3636aeca5e",
   "metadata": {},
   "outputs": [
    {
     "name": "stdout",
     "output_type": "stream",
     "text": [
      "   Housing  Total\n",
      "0      yes  21576\n",
      "1       no  18622\n",
      "2  unknown    990\n"
     ]
    }
   ],
   "source": [
    "# Menghitung jumlah masing-masing kategori pada kolom 'housing'\n",
    "housing_counts = df['housing'].value_counts().reset_index()\n",
    "\n",
    "# Ubah nama kolom agar lebih informatif\n",
    "housing_counts.columns = ['Housing', 'Total']\n",
    "\n",
    "# Tampilkan tabel\n",
    "print(housing_counts)"
   ]
  },
  {
   "cell_type": "markdown",
   "id": "76095d87-1d45-4eb8-b1a3-4ad3f35a624b",
   "metadata": {},
   "source": [
    "#### **2.8. Kategori Fitur: `loan`**"
   ]
  },
  {
   "cell_type": "code",
   "execution_count": 23,
   "id": "c89d0629-5ab8-4a66-be0f-d3d168914778",
   "metadata": {},
   "outputs": [
    {
     "name": "stdout",
     "output_type": "stream",
     "text": [
      "      Loan  Total\n",
      "0       no  33950\n",
      "1      yes   6248\n",
      "2  unknown    990\n"
     ]
    }
   ],
   "source": [
    "# Menghitung jumlah masing-masing kategori pada kolom 'loan'\n",
    "loan_counts = df['loan'].value_counts().reset_index()\n",
    "\n",
    "# Ubah nama kolom agar lebih informatif\n",
    "loan_counts.columns = ['Loan', 'Total']\n",
    "\n",
    "# Tampilkan tabel\n",
    "print(loan_counts)"
   ]
  },
  {
   "cell_type": "markdown",
   "id": "b7a533f4-c611-42c7-8bf9-c596a9cfb172",
   "metadata": {},
   "source": [
    "#### **2.9. Kategori Fitur: `poutcome`**"
   ]
  },
  {
   "cell_type": "code",
   "execution_count": 24,
   "id": "5c759590-ad66-4fd2-97d5-9c71a1e12a04",
   "metadata": {},
   "outputs": [
    {
     "name": "stdout",
     "output_type": "stream",
     "text": [
      "      Poutcome  Total\n",
      "0  nonexistent  35563\n",
      "1      failure   4252\n",
      "2      success   1373\n"
     ]
    }
   ],
   "source": [
    "# Menghitung jumlah masing-masing kategori pada kolom 'poutcome'\n",
    "poutcome_counts = df['poutcome'].value_counts().reset_index()\n",
    "\n",
    "# Ubah nama kolom agar lebih informatif\n",
    "poutcome_counts.columns = ['Poutcome', 'Total']\n",
    "\n",
    "# Tampilkan tabel\n",
    "print(poutcome_counts)"
   ]
  },
  {
   "cell_type": "markdown",
   "id": "54e0c6d2-cab4-485c-b172-7732db064cd8",
   "metadata": {},
   "source": [
    "#### **2.10. Kategori Fitur: `contact`**"
   ]
  },
  {
   "cell_type": "code",
   "execution_count": 25,
   "id": "c85a7bf8-b0a7-48ca-adeb-14cdde1032e3",
   "metadata": {},
   "outputs": [
    {
     "name": "stdout",
     "output_type": "stream",
     "text": [
      "     Contact  Total\n",
      "0   cellular  26144\n",
      "1  telephone  15044\n"
     ]
    }
   ],
   "source": [
    "# Menghitung jumlah masing-masing kategori pada kolom 'contact'\n",
    "contact_counts = df['contact'].value_counts().reset_index()\n",
    "\n",
    "# Ubah nama kolom agar lebih informatif\n",
    "contact_counts.columns = ['Contact', 'Total']\n",
    "\n",
    "# Tampilkan tabel\n",
    "print(contact_counts)"
   ]
  },
  {
   "cell_type": "markdown",
   "id": "0dbef19b-6f42-49b8-a726-3f3d2f9c6801",
   "metadata": {},
   "source": [
    "#### **2.11. Kategori Fitur: `y`**"
   ]
  },
  {
   "cell_type": "code",
   "execution_count": 26,
   "id": "634e4bfd-6a5d-4960-a44c-f6b2f45b8ef3",
   "metadata": {},
   "outputs": [
    {
     "name": "stdout",
     "output_type": "stream",
     "text": [
      "     Y  Total\n",
      "0   no  36548\n",
      "1  yes   4640\n"
     ]
    }
   ],
   "source": [
    "# Menghitung jumlah masing-masing kategori pada kolom 'y'\n",
    "y_counts = df['y'].value_counts().reset_index()\n",
    "\n",
    "# Ubah nama kolom agar lebih informatif\n",
    "y_counts.columns = ['Y', 'Total']\n",
    "\n",
    "# Tampilkan tabel\n",
    "print(y_counts)"
   ]
  },
  {
   "cell_type": "markdown",
   "id": "710c967d-2c28-4e80-8dfb-baca7fa9df4c",
   "metadata": {},
   "source": [
    "### **3. Duplikat Data**"
   ]
  },
  {
   "cell_type": "code",
   "execution_count": 9,
   "id": "531f7eb4-bf94-40f8-8dfc-beafefb7be89",
   "metadata": {},
   "outputs": [
    {
     "data": {
      "text/plain": [
       "12"
      ]
     },
     "execution_count": 9,
     "metadata": {},
     "output_type": "execute_result"
    }
   ],
   "source": [
    "duplicate_rows = df.duplicated().sum()\n",
    "\n",
    "duplicate_rows"
   ]
  },
  {
   "cell_type": "markdown",
   "id": "d1d7cab2-7038-4126-9010-e01456b84701",
   "metadata": {},
   "source": [
    "### **Missing Value**"
   ]
  },
  {
   "cell_type": "code",
   "execution_count": 4,
   "id": "fafc38b7-2a1e-46ea-ada1-6345b97e3c93",
   "metadata": {},
   "outputs": [
    {
     "data": {
      "text/plain": [
       "age               0\n",
       "job               0\n",
       "marital           0\n",
       "education         0\n",
       "default           0\n",
       "housing           0\n",
       "loan              0\n",
       "contact           0\n",
       "month             0\n",
       "day_of_week       0\n",
       "duration          0\n",
       "campaign          0\n",
       "pdays             0\n",
       "previous          0\n",
       "poutcome          0\n",
       "emp.var.rate      0\n",
       "cons.price.idx    0\n",
       "cons.conf.idx     0\n",
       "euribor3m         0\n",
       "nr.employed       0\n",
       "y                 0\n",
       "dtype: int64"
      ]
     },
     "execution_count": 4,
     "metadata": {},
     "output_type": "execute_result"
    }
   ],
   "source": [
    "missing_values = df.isnull().sum()\n",
    "missing_values"
   ]
  },
  {
   "cell_type": "markdown",
   "id": "b6150812-b820-47d0-ac6d-2edce7eb6981",
   "metadata": {},
   "source": [
    "| Kolom         | Jumlah Kategori Unik |\n",
    "| ------------- | -------------------- |\n",
    "| job           | 12                   |\n",
    "| month         | 10                   |\n",
    "| education     | 8                    |\n",
    "| day\\_of\\_week | 5                    |\n",
    "| marital       | 4                    |\n",
    "| default       | 3                    |\n",
    "| housing       | 3                    |\n",
    "| loan          | 3                    |\n",
    "| poutcome      | 3                    |\n",
    "| contact       | 2                    |\n",
    "| y (target)    | 2 (`yes`, `no`)      |\n"
   ]
  },
  {
   "cell_type": "code",
   "execution_count": null,
   "id": "710c74d8-7acf-4c1b-adbb-6ddc7e2f74f2",
   "metadata": {},
   "outputs": [],
   "source": []
  }
 ],
 "metadata": {
  "kernelspec": {
   "display_name": "Python 3 (ipykernel)",
   "language": "python",
   "name": "python3"
  },
  "language_info": {
   "codemirror_mode": {
    "name": "ipython",
    "version": 3
   },
   "file_extension": ".py",
   "mimetype": "text/x-python",
   "name": "python",
   "nbconvert_exporter": "python",
   "pygments_lexer": "ipython3",
   "version": "3.12.11"
  }
 },
 "nbformat": 4,
 "nbformat_minor": 5
}
