{
 "cells": [
  {
   "cell_type": "code",
   "execution_count": 2,
   "id": "f4b165a3-e242-490c-bf4d-227e3a5dd89a",
   "metadata": {},
   "outputs": [
    {
     "name": "stdout",
     "output_type": "stream",
     "text": [
      "     contact  duration  call_fee\n",
      "0  telephone       261       1.5\n",
      "1  telephone       149       0.9\n",
      "2  telephone       226       1.2\n",
      "3  telephone       151       0.9\n",
      "4  telephone       307       1.8\n",
      "5  telephone       198       1.2\n",
      "6  telephone       139       0.9\n",
      "7  telephone       217       1.2\n",
      "8  telephone       380       2.1\n",
      "9  telephone        50       0.3\n"
     ]
    }
   ],
   "source": [
    "import pandas as pd\n",
    "import math\n",
    "\n",
    "# Load dataset\n",
    "file_path = \"../data/bank-additional-full.csv\"\n",
    "df = pd.read_csv(file_path, sep=';')\n",
    "\n",
    "# Tarif tertinggi per menit\n",
    "tarif_per_menit = 0.30\n",
    "\n",
    "# Fungsi hitung biaya panggilan\n",
    "def hitung_biaya(row):\n",
    "    if row['contact'] == 'unknown' or row['duration'] == 0:\n",
    "        return 0.0\n",
    "    else:\n",
    "        menit = math.ceil(row['duration'] / 60)\n",
    "        return round(menit * tarif_per_menit, 2)\n",
    "\n",
    "# Tambahkan kolom biaya panggilan\n",
    "df['call_fee'] = df.apply(hitung_biaya, axis=1)\n",
    "\n",
    "# Simpan ke file baru (opsional)\n",
    "df.to_csv(\"bank-additional-biaya.csv\", index=False, sep=';')\n",
    "\n",
    "# Tampilkan contoh\n",
    "print(df[['contact', 'duration', 'call_fee']].head(10))\n"
   ]
  },
  {
   "cell_type": "code",
   "execution_count": 21,
   "id": "64341a6a-f7e2-44f6-a3a9-39a011ce6f77",
   "metadata": {},
   "outputs": [
    {
     "name": "stdout",
     "output_type": "stream",
     "text": [
      "     contact  duration  call_fee\n",
      "0  telephone       261       0.5\n",
      "1  telephone       149       0.3\n",
      "2  telephone       226       0.4\n",
      "3  telephone       151       0.3\n",
      "4  telephone       307       0.6\n",
      "5  telephone       198       0.4\n",
      "6  telephone       139       0.3\n",
      "7  telephone       217       0.4\n",
      "8  telephone       380       0.7\n",
      "9  telephone        50       0.1\n"
     ]
    }
   ],
   "source": [
    "import pandas as pd\n",
    "import math\n",
    "\n",
    "# Load dataset\n",
    "file_path = \"../data/bank-additional-full.csv\"\n",
    "df = pd.read_csv(file_path, sep=';')\n",
    "\n",
    "# Tarif per menit\n",
    "tarif_telephone = 0.10   # landline\n",
    "tarif_cellular = 0.30    # mobile\n",
    "\n",
    "# Fungsi hitung biaya panggilan satu kolom\n",
    "def hitung_call_fee(row):\n",
    "    if row['duration'] == 0 or row['contact'] == 'unknown':\n",
    "        return 0.0\n",
    "    menit = math.ceil(row['duration'] / 60)\n",
    "    if row['contact'] == 'telephone':\n",
    "        return round(menit * tarif_telephone, 2)\n",
    "    elif row['contact'] == 'cellular':\n",
    "        return round(menit * tarif_cellular, 2)\n",
    "    else:\n",
    "        return 0.0\n",
    "\n",
    "def hitung_call_fee_cut_off(row):\n",
    "    if row['duration_cut_off'] == 0 or row['contact'] == 'unknown':\n",
    "        return 0.0\n",
    "    menit = math.ceil(row['duration_cut_off'] / 60)\n",
    "    if row['contact'] == 'telephone':\n",
    "        return round(menit * tarif_telephone, 2)\n",
    "    elif row['contact'] == 'cellular':\n",
    "        return round(menit * tarif_cellular, 2)\n",
    "    else:\n",
    "        return 0.0\n",
    "\n",
    "# Tambahkan kolom biaya panggilan tunggal\n",
    "df['call_fee'] = df.apply(hitung_call_fee, axis=1)\n",
    "\n",
    "# Simpan ke file baru (opsional)\n",
    "df.to_csv(\"../data/revision/bank-additional-call-fee.csv\", index=False, sep=';')\n",
    "\n",
    "# Tampilkan contoh\n",
    "print(df[['contact', 'duration', 'call_fee']].head(10))\n"
   ]
  },
  {
   "cell_type": "code",
   "execution_count": 22,
   "id": "fed51478-971f-46aa-b146-97409b6f8152",
   "metadata": {},
   "outputs": [],
   "source": [
    "def calc_duration_cutoff(row):\n",
    "    if row['y'] == 'yes':\n",
    "        return row['duration'] if row['duration'] < 300 else 300\n",
    "    else:  # y == 'no'\n",
    "        if row['duration'] <= 60:\n",
    "            return 60\n",
    "        elif row['duration'] <= 120:\n",
    "            return 90\n",
    "        elif row['duration'] <= 170:\n",
    "            return 120\n",
    "        else:\n",
    "            return 170\n"
   ]
  },
  {
   "cell_type": "code",
   "execution_count": 23,
   "id": "4d748f88-b268-483c-aa3e-894bb23102f8",
   "metadata": {},
   "outputs": [],
   "source": [
    "df['duration_cut_off'] = df.apply(calc_duration_cutoff, axis=1)"
   ]
  },
  {
   "cell_type": "code",
   "execution_count": 24,
   "id": "85409864-d052-4f8c-95c3-613d56758aea",
   "metadata": {},
   "outputs": [
    {
     "name": "stdout",
     "output_type": "stream",
     "text": [
      "     contact  duration  call_fee  duration_cut_off\n",
      "0  telephone       261       0.5               170\n",
      "1  telephone       149       0.3               120\n",
      "2  telephone       226       0.4               170\n",
      "3  telephone       151       0.3               120\n",
      "4  telephone       307       0.6               170\n",
      "5  telephone       198       0.4               170\n",
      "6  telephone       139       0.3               120\n",
      "7  telephone       217       0.4               170\n",
      "8  telephone       380       0.7               170\n",
      "9  telephone        50       0.1                60\n"
     ]
    }
   ],
   "source": [
    "print(df[['contact', 'duration', 'call_fee', 'duration_cut_off']].head(10))"
   ]
  },
  {
   "cell_type": "code",
   "execution_count": 28,
   "id": "45698839-197b-4552-b178-d44d99f7fc8e",
   "metadata": {},
   "outputs": [
    {
     "name": "stdout",
     "output_type": "stream",
     "text": [
      "     contact  duration  call_fee  duration_cut_off  call_fee_cut_off\n",
      "0  telephone       261       0.5               170               0.3\n",
      "1  telephone       149       0.3               120               0.2\n",
      "2  telephone       226       0.4               170               0.3\n",
      "3  telephone       151       0.3               120               0.2\n",
      "4  telephone       307       0.6               170               0.3\n",
      "5  telephone       198       0.4               170               0.3\n",
      "6  telephone       139       0.3               120               0.2\n",
      "7  telephone       217       0.4               170               0.3\n",
      "8  telephone       380       0.7               170               0.3\n",
      "9  telephone        50       0.1                60               0.1\n"
     ]
    }
   ],
   "source": [
    "# Tambahkan kolom biaya panggilan tunggal\n",
    "df['call_fee_cut_off'] = df.apply(hitung_call_fee_cut_off, axis=1)\n",
    "\n",
    "# Simpan ke file baru (opsional)\n",
    "df.to_csv(\"../data/revision/bank-additional-call-fee.csv\", index=False, sep=';')\n",
    "\n",
    "# Tampilkan contoh\n",
    "print(df[['contact', 'duration', 'call_fee', 'duration_cut_off', 'call_fee_cut_off']].head(10))"
   ]
  },
  {
   "cell_type": "code",
   "execution_count": 29,
   "id": "1ba4a979-d687-4219-9ebc-ca19efe539b7",
   "metadata": {},
   "outputs": [
    {
     "name": "stdout",
     "output_type": "stream",
     "text": [
      "      contact  duration  duration_cut_off  call_fee  call_fee_cut_off\n",
      "0   telephone       261               170       0.5               0.3\n",
      "1   telephone       149               120       0.3               0.2\n",
      "2   telephone       226               170       0.4               0.3\n",
      "3   telephone       151               120       0.3               0.2\n",
      "4   telephone       307               170       0.6               0.3\n",
      "5   telephone       198               170       0.4               0.3\n",
      "6   telephone       139               120       0.3               0.2\n",
      "7   telephone       217               170       0.4               0.3\n",
      "8   telephone       380               170       0.7               0.3\n",
      "11  telephone       222               170       0.4               0.3\n"
     ]
    }
   ],
   "source": [
    "# Tampilkan baris di mana call_fee dan call_fee_cut_off berbeda\n",
    "beda_fee = df[df['call_fee'] != df['call_fee_cut_off']]\n",
    "\n",
    "# Tampilkan hasil\n",
    "print(beda_fee[['contact', 'duration', 'duration_cut_off', 'call_fee', 'call_fee_cut_off']].head(10))"
   ]
  },
  {
   "cell_type": "code",
   "execution_count": 30,
   "id": "54162339-4102-4d92-9ba5-b399bd8a4ef1",
   "metadata": {},
   "outputs": [
    {
     "name": "stdout",
     "output_type": "stream",
     "text": [
      "Total biaya aktual (call_fee): €45,359.00\n",
      "Total biaya setelah cut-off (call_fee_cut_off): €24,857.60\n",
      "Penghematan biaya: €20,501.40\n"
     ]
    }
   ],
   "source": [
    "# Hitung total biaya call_fee dan call_fee_cut_off\n",
    "total_call_fee = df['call_fee'].sum()\n",
    "total_call_fee_cut_off = df['call_fee_cut_off'].sum()\n",
    "\n",
    "# Tampilkan hasil\n",
    "print(f\"Total biaya aktual (call_fee): €{total_call_fee:,.2f}\")\n",
    "print(f\"Total biaya setelah cut-off (call_fee_cut_off): €{total_call_fee_cut_off:,.2f}\")\n",
    "print(f\"Penghematan biaya: €{(total_call_fee - total_call_fee_cut_off):,.2f}\")\n"
   ]
  },
  {
   "cell_type": "code",
   "execution_count": 31,
   "id": "6149c652-6bde-413b-92fa-945f210e4743",
   "metadata": {},
   "outputs": [
    {
     "name": "stdout",
     "output_type": "stream",
     "text": [
      "Total durasi aktual (duration): 10,638,243 detik (177,304.05 menit)\n",
      "Total durasi setelah cut-off (duration_cut_off): 5,991,325 detik (99,855.42 menit)\n",
      "Penghematan waktu: 4,646,918 detik (77,448.63 menit)\n"
     ]
    }
   ],
   "source": [
    "# Hitung total durasi aktual dan cut-off (dalam detik)\n",
    "total_duration = df['duration'].sum()\n",
    "total_duration_cutoff = df['duration_cut_off'].sum()\n",
    "\n",
    "# Tampilkan hasil dalam detik dan juga menit\n",
    "print(f\"Total durasi aktual (duration): {total_duration:,} detik ({total_duration/60:,.2f} menit)\")\n",
    "print(f\"Total durasi setelah cut-off (duration_cut_off): {total_duration_cutoff:,} detik ({total_duration_cutoff/60:,.2f} menit)\")\n",
    "print(f\"Penghematan waktu: {total_duration - total_duration_cutoff:,} detik ({(total_duration - total_duration_cutoff)/60:,.2f} menit)\")\n"
   ]
  },
  {
   "cell_type": "code",
   "execution_count": null,
   "id": "74a61edb-942f-4b8d-b9e1-ae7626e12c0a",
   "metadata": {},
   "outputs": [],
   "source": []
  }
 ],
 "metadata": {
  "kernelspec": {
   "display_name": "Python 3 (ipykernel)",
   "language": "python",
   "name": "python3"
  },
  "language_info": {
   "codemirror_mode": {
    "name": "ipython",
    "version": 3
   },
   "file_extension": ".py",
   "mimetype": "text/x-python",
   "name": "python",
   "nbconvert_exporter": "python",
   "pygments_lexer": "ipython3",
   "version": "3.12.11"
  }
 },
 "nbformat": 4,
 "nbformat_minor": 5
}
